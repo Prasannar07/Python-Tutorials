{
 "cells": [
  {
   "attachments": {},
   "cell_type": "markdown",
   "metadata": {},
   "source": [
    "Determine how many people survived the disaster"
   ]
  },
  {
   "cell_type": "code",
   "execution_count": 1,
   "metadata": {},
   "outputs": [
    {
     "name": "stdout",
     "output_type": "stream",
     "text": [
      "290 people survived the disaster\n"
     ]
    }
   ],
   "source": [
    "import numpy as np \n",
    "import pandas as pd\n",
    "file_path = 'C:/Users/hp/Desktop/Python Practice/clean_titanic_data.csv'\n",
    "df = pd.read_csv(file_path)\n",
    "people_survived = df[\"Survived\"].value_counts()[1]\n",
    "print(\"{} people survived the disaster\".format(people_survived))"
   ]
  },
  {
   "attachments": {},
   "cell_type": "markdown",
   "metadata": {},
   "source": [
    "Determine how many men and how many women survived the disaster "
   ]
  },
  {
   "cell_type": "code",
   "execution_count": 8,
   "metadata": {},
   "outputs": [
    {
     "name": "stdout",
     "output_type": "stream",
     "text": [
      "93 men survived the disaster\n",
      "197 women survived the disaster\n"
     ]
    }
   ],
   "source": [
    "male_survived =  df[df[\"Sex\"]== \"male\"][\"Survived\"].value_counts()[1]\n",
    "female_survived = df[df[\"Sex\"]== \"female\"][\"Survived\"].value_counts()[1]\n",
    "print(\"{} men survived the disaster\".format(male_survived))\n",
    "print(\"{} women survived the disaster\".format(female_survived))"
   ]
  },
  {
   "attachments": {},
   "cell_type": "markdown",
   "metadata": {},
   "source": [
    "Determine how many children under the age of 12 survived the disaster. "
   ]
  },
  {
   "cell_type": "code",
   "execution_count": 24,
   "metadata": {},
   "outputs": [
    {
     "name": "stdout",
     "output_type": "stream",
     "text": [
      "39 children survived the disaster\n"
     ]
    }
   ],
   "source": [
    "children_survived = df[df[\"Age\"] < 12][\"Survived\"].value_counts()[1]\n",
    "print(\"{} children survived the disaster\".format(children_survived))"
   ]
  },
  {
   "attachments": {},
   "cell_type": "markdown",
   "metadata": {},
   "source": [
    "Number people survived that were traveling with 3 or more family members"
   ]
  },
  {
   "cell_type": "code",
   "execution_count": 18,
   "metadata": {},
   "outputs": [
    {
     "name": "stdout",
     "output_type": "stream",
     "text": [
      "31 people traveling with 3 or more family members survived the disaster\n"
     ]
    }
   ],
   "source": [
    "df[\"Family\"] = df[\"Parch\"] + df[\"SibSp\"]\n",
    "#df.head()\n",
    "family_survived = df[df[\"Family\"] >= 3][\"Survived\"].value_counts()[1]\n",
    "print(\"{} people traveling with 3 or more family members survived the disaster\".format(family_survived))\n"
   ]
  },
  {
   "attachments": {},
   "cell_type": "markdown",
   "metadata": {},
   "source": [
    "Making Predictions"
   ]
  },
  {
   "cell_type": "code",
   "execution_count": 35,
   "metadata": {},
   "outputs": [],
   "source": [
    "def score_prediction(df):\n",
    "    acc = (df[\"Survived\"]==df[\"Prediction\"]).sum() / len(df)\n",
    "    print(\"Your accuracy is {0:.1f}%\".format(100*acc))"
   ]
  },
  {
   "attachments": {},
   "cell_type": "markdown",
   "metadata": {},
   "source": [
    "Since more females and children survived the titanic using that information to make predictions"
   ]
  },
  {
   "cell_type": "code",
   "execution_count": null,
   "metadata": {},
   "outputs": [],
   "source": [
    "df[\"Prediction\"] = df.apply(lambda row: 1 if row[\"Sex\"]==\"female\" or row[\"Age\"] <= 12  else 0, axis=1)\n",
    "df.head()"
   ]
  },
  {
   "cell_type": "code",
   "execution_count": 42,
   "metadata": {},
   "outputs": [
    {
     "name": "stdout",
     "output_type": "stream",
     "text": [
      "Your accuracy is 78.7%\n"
     ]
    }
   ],
   "source": [
    "score_prediction(df)"
   ]
  }
 ],
 "metadata": {
  "kernelspec": {
   "display_name": "Python 3",
   "language": "python",
   "name": "python3"
  },
  "language_info": {
   "codemirror_mode": {
    "name": "ipython",
    "version": 3
   },
   "file_extension": ".py",
   "mimetype": "text/x-python",
   "name": "python",
   "nbconvert_exporter": "python",
   "pygments_lexer": "ipython3",
   "version": "3.7.6 (tags/v3.7.6:43364a7ae0, Dec 19 2019, 00:42:30) [MSC v.1916 64 bit (AMD64)]"
  },
  "orig_nbformat": 4,
  "vscode": {
   "interpreter": {
    "hash": "173b1ad0e598a21817c913127c0ed612d69b6c3d0fd1e8e7f3c7ab65a8d7b09a"
   }
  }
 },
 "nbformat": 4,
 "nbformat_minor": 2
}
