{
 "cells": [
  {
   "cell_type": "code",
   "execution_count": 55,
   "metadata": {},
   "outputs": [],
   "source": [
    "import numpy as np\n",
    "import pandas as pd\n",
    "\n",
    "file_path = 'C:/Users/hp/Desktop/Python Practice/clean_boulder_weather.csv'\n",
    "\n",
    "\n",
    "df = pd.read_csv(file_path)"
   ]
  },
  {
   "cell_type": "code",
   "execution_count": 41,
   "metadata": {},
   "outputs": [
    {
     "data": {
      "text/plain": [
       "array(['BOULDER 14 W, CO US', 'GROSS RESERVOIR, CO US',\n",
       "       'SUGARLOAF COLORADO, CO US', 'NIWOT, CO US', 'BOULDER, CO US',\n",
       "       'RALSTON RESERVOIR, CO US', 'NORTHGLENN, CO US'], dtype=object)"
      ]
     },
     "execution_count": 41,
     "metadata": {},
     "output_type": "execute_result"
    }
   ],
   "source": [
    "df.head(10)\n",
    "set(df[\"NAME\"])\n",
    "df[\"NAME\"].unique()"
   ]
  },
  {
   "cell_type": "code",
   "execution_count": 56,
   "metadata": {},
   "outputs": [
    {
     "data": {
      "text/html": [
       "<div>\n",
       "<style scoped>\n",
       "    .dataframe tbody tr th:only-of-type {\n",
       "        vertical-align: middle;\n",
       "    }\n",
       "\n",
       "    .dataframe tbody tr th {\n",
       "        vertical-align: top;\n",
       "    }\n",
       "\n",
       "    .dataframe thead th {\n",
       "        text-align: right;\n",
       "    }\n",
       "</style>\n",
       "<table border=\"1\" class=\"dataframe\">\n",
       "  <thead>\n",
       "    <tr style=\"text-align: right;\">\n",
       "      <th></th>\n",
       "      <th>STATION</th>\n",
       "      <th>NAME</th>\n",
       "      <th>DATE</th>\n",
       "      <th>PRCP</th>\n",
       "      <th>TMAX</th>\n",
       "      <th>TMIN</th>\n",
       "    </tr>\n",
       "  </thead>\n",
       "  <tbody>\n",
       "    <tr>\n",
       "      <th>93</th>\n",
       "      <td>USS0005J42S</td>\n",
       "      <td>NIWOT, CO US</td>\n",
       "      <td>2017-07-01</td>\n",
       "      <td>0.0</td>\n",
       "      <td>69.0</td>\n",
       "      <td>32.0</td>\n",
       "    </tr>\n",
       "    <tr>\n",
       "      <th>94</th>\n",
       "      <td>USS0005J42S</td>\n",
       "      <td>NIWOT, CO US</td>\n",
       "      <td>2017-07-02</td>\n",
       "      <td>0.0</td>\n",
       "      <td>73.0</td>\n",
       "      <td>37.0</td>\n",
       "    </tr>\n",
       "    <tr>\n",
       "      <th>95</th>\n",
       "      <td>USS0005J42S</td>\n",
       "      <td>NIWOT, CO US</td>\n",
       "      <td>2017-07-03</td>\n",
       "      <td>0.0</td>\n",
       "      <td>68.0</td>\n",
       "      <td>47.0</td>\n",
       "    </tr>\n",
       "    <tr>\n",
       "      <th>96</th>\n",
       "      <td>USS0005J42S</td>\n",
       "      <td>NIWOT, CO US</td>\n",
       "      <td>2017-07-04</td>\n",
       "      <td>0.1</td>\n",
       "      <td>70.0</td>\n",
       "      <td>41.0</td>\n",
       "    </tr>\n",
       "    <tr>\n",
       "      <th>97</th>\n",
       "      <td>USS0005J42S</td>\n",
       "      <td>NIWOT, CO US</td>\n",
       "      <td>2017-07-05</td>\n",
       "      <td>0.0</td>\n",
       "      <td>74.0</td>\n",
       "      <td>40.0</td>\n",
       "    </tr>\n",
       "  </tbody>\n",
       "</table>\n",
       "</div>"
      ],
      "text/plain": [
       "        STATION          NAME        DATE  PRCP  TMAX  TMIN\n",
       "93  USS0005J42S  NIWOT, CO US  2017-07-01   0.0  69.0  32.0\n",
       "94  USS0005J42S  NIWOT, CO US  2017-07-02   0.0  73.0  37.0\n",
       "95  USS0005J42S  NIWOT, CO US  2017-07-03   0.0  68.0  47.0\n",
       "96  USS0005J42S  NIWOT, CO US  2017-07-04   0.1  70.0  41.0\n",
       "97  USS0005J42S  NIWOT, CO US  2017-07-05   0.0  74.0  40.0"
      ]
     },
     "execution_count": 56,
     "metadata": {},
     "output_type": "execute_result"
    }
   ],
   "source": [
    "dfNiwot = df[df[\"NAME\"]==\"NIWOT, CO US\"]\n",
    "dfNiwot.head() "
   ]
  },
  {
   "cell_type": "code",
   "execution_count": 57,
   "metadata": {},
   "outputs": [
    {
     "name": "stdout",
     "output_type": "stream",
     "text": [
      "5-Number Summary: 54.00    66.50    70.00    74.00    80.00\n"
     ]
    }
   ],
   "source": [
    "minval = dfNiwot[\"TMAX\"].min()\n",
    "maxval = dfNiwot[\"TMAX\"].max()\n",
    "Q1 = dfNiwot[\"TMAX\"].quantile(0.25)\n",
    "Q2 = dfNiwot[\"TMAX\"].quantile(0.50)\n",
    "Q3 = dfNiwot[\"TMAX\"].quantile(0.75)\n",
    "print(\"5-Number Summary: {:.2f}    {:.2f}    {:.2f}    {:.2f}    {:.2f}\".format(minval, Q1, Q2, Q3, maxval))"
   ]
  },
  {
   "cell_type": "code",
   "execution_count": 58,
   "metadata": {},
   "outputs": [
    {
     "data": {
      "text/plain": [
       "count    31.000000\n",
       "mean     69.838710\n",
       "std       5.621962\n",
       "min      54.000000\n",
       "25%      66.500000\n",
       "50%      70.000000\n",
       "75%      74.000000\n",
       "max      80.000000\n",
       "Name: TMAX, dtype: float64"
      ]
     },
     "execution_count": 58,
     "metadata": {},
     "output_type": "execute_result"
    }
   ],
   "source": [
    "dfNiwot[\"TMAX\"].describe()"
   ]
  },
  {
   "cell_type": "code",
   "execution_count": 59,
   "metadata": {},
   "outputs": [
    {
     "name": "stderr",
     "output_type": "stream",
     "text": [
      "c:\\Users\\hp\\AppData\\Local\\Programs\\Python\\Python37\\lib\\site-packages\\pandas\\core\\indexing.py:1667: SettingWithCopyWarning: \n",
      "A value is trying to be set on a copy of a slice from a DataFrame.\n",
      "Try using .loc[row_indexer,col_indexer] = value instead\n",
      "\n",
      "See the caveats in the documentation: https://pandas.pydata.org/pandas-docs/stable/user_guide/indexing.html#returning-a-view-versus-a-copy\n",
      "  self.obj[key] = value\n"
     ]
    }
   ],
   "source": [
    "dfNiwot.loc[:,\"TMAX+3\"] = (3) + (dfNiwot.loc[:,\"TMAX\"])\n",
    "dfNiwot.loc[:,\"TMAX*3\"] = (3) * (dfNiwot.loc[:,\"TMAX\"])\n",
    "\n"
   ]
  },
  {
   "cell_type": "code",
   "execution_count": 60,
   "metadata": {},
   "outputs": [
    {
     "data": {
      "text/html": [
       "<div>\n",
       "<style scoped>\n",
       "    .dataframe tbody tr th:only-of-type {\n",
       "        vertical-align: middle;\n",
       "    }\n",
       "\n",
       "    .dataframe tbody tr th {\n",
       "        vertical-align: top;\n",
       "    }\n",
       "\n",
       "    .dataframe thead th {\n",
       "        text-align: right;\n",
       "    }\n",
       "</style>\n",
       "<table border=\"1\" class=\"dataframe\">\n",
       "  <thead>\n",
       "    <tr style=\"text-align: right;\">\n",
       "      <th></th>\n",
       "      <th>STATION</th>\n",
       "      <th>NAME</th>\n",
       "      <th>DATE</th>\n",
       "      <th>PRCP</th>\n",
       "      <th>TMAX</th>\n",
       "      <th>TMIN</th>\n",
       "      <th>TMAX+3</th>\n",
       "      <th>TMAX*3</th>\n",
       "    </tr>\n",
       "  </thead>\n",
       "  <tbody>\n",
       "    <tr>\n",
       "      <th>93</th>\n",
       "      <td>USS0005J42S</td>\n",
       "      <td>NIWOT, CO US</td>\n",
       "      <td>2017-07-01</td>\n",
       "      <td>0.0</td>\n",
       "      <td>69.0</td>\n",
       "      <td>32.0</td>\n",
       "      <td>72.0</td>\n",
       "      <td>207.0</td>\n",
       "    </tr>\n",
       "    <tr>\n",
       "      <th>94</th>\n",
       "      <td>USS0005J42S</td>\n",
       "      <td>NIWOT, CO US</td>\n",
       "      <td>2017-07-02</td>\n",
       "      <td>0.0</td>\n",
       "      <td>73.0</td>\n",
       "      <td>37.0</td>\n",
       "      <td>76.0</td>\n",
       "      <td>219.0</td>\n",
       "    </tr>\n",
       "    <tr>\n",
       "      <th>95</th>\n",
       "      <td>USS0005J42S</td>\n",
       "      <td>NIWOT, CO US</td>\n",
       "      <td>2017-07-03</td>\n",
       "      <td>0.0</td>\n",
       "      <td>68.0</td>\n",
       "      <td>47.0</td>\n",
       "      <td>71.0</td>\n",
       "      <td>204.0</td>\n",
       "    </tr>\n",
       "    <tr>\n",
       "      <th>96</th>\n",
       "      <td>USS0005J42S</td>\n",
       "      <td>NIWOT, CO US</td>\n",
       "      <td>2017-07-04</td>\n",
       "      <td>0.1</td>\n",
       "      <td>70.0</td>\n",
       "      <td>41.0</td>\n",
       "      <td>73.0</td>\n",
       "      <td>210.0</td>\n",
       "    </tr>\n",
       "    <tr>\n",
       "      <th>97</th>\n",
       "      <td>USS0005J42S</td>\n",
       "      <td>NIWOT, CO US</td>\n",
       "      <td>2017-07-05</td>\n",
       "      <td>0.0</td>\n",
       "      <td>74.0</td>\n",
       "      <td>40.0</td>\n",
       "      <td>77.0</td>\n",
       "      <td>222.0</td>\n",
       "    </tr>\n",
       "  </tbody>\n",
       "</table>\n",
       "</div>"
      ],
      "text/plain": [
       "        STATION          NAME        DATE  PRCP  TMAX  TMIN  TMAX+3  TMAX*3\n",
       "93  USS0005J42S  NIWOT, CO US  2017-07-01   0.0  69.0  32.0    72.0   207.0\n",
       "94  USS0005J42S  NIWOT, CO US  2017-07-02   0.0  73.0  37.0    76.0   219.0\n",
       "95  USS0005J42S  NIWOT, CO US  2017-07-03   0.0  68.0  47.0    71.0   204.0\n",
       "96  USS0005J42S  NIWOT, CO US  2017-07-04   0.1  70.0  41.0    73.0   210.0\n",
       "97  USS0005J42S  NIWOT, CO US  2017-07-05   0.0  74.0  40.0    77.0   222.0"
      ]
     },
     "execution_count": 60,
     "metadata": {},
     "output_type": "execute_result"
    }
   ],
   "source": [
    "dfNiwot.head()"
   ]
  },
  {
   "cell_type": "code",
   "execution_count": 62,
   "metadata": {},
   "outputs": [
    {
     "data": {
      "text/plain": [
       "count    31.000000\n",
       "mean     72.838710\n",
       "std       5.621962\n",
       "min      57.000000\n",
       "25%      69.500000\n",
       "50%      73.000000\n",
       "75%      77.000000\n",
       "max      83.000000\n",
       "Name: TMAX+3, dtype: float64"
      ]
     },
     "execution_count": 62,
     "metadata": {},
     "output_type": "execute_result"
    }
   ],
   "source": [
    "dfNiwot[\"TMAX+3\"].describe()"
   ]
  },
  {
   "cell_type": "code",
   "execution_count": 63,
   "metadata": {},
   "outputs": [
    {
     "data": {
      "text/plain": [
       "count     31.000000\n",
       "mean     209.516129\n",
       "std       16.865885\n",
       "min      162.000000\n",
       "25%      199.500000\n",
       "50%      210.000000\n",
       "75%      222.000000\n",
       "max      240.000000\n",
       "Name: TMAX*3, dtype: float64"
      ]
     },
     "execution_count": 63,
     "metadata": {},
     "output_type": "execute_result"
    }
   ],
   "source": [
    "dfNiwot[\"TMAX*3\"].describe()"
   ]
  },
  {
   "cell_type": "code",
   "execution_count": 66,
   "metadata": {},
   "outputs": [
    {
     "name": "stderr",
     "output_type": "stream",
     "text": [
      "c:\\Users\\hp\\AppData\\Local\\Programs\\Python\\Python37\\lib\\site-packages\\pandas\\core\\indexing.py:1773: SettingWithCopyWarning: \n",
      "A value is trying to be set on a copy of a slice from a DataFrame.\n",
      "Try using .loc[row_indexer,col_indexer] = value instead\n",
      "\n",
      "See the caveats in the documentation: https://pandas.pydata.org/pandas-docs/stable/user_guide/indexing.html#returning-a-view-versus-a-copy\n",
      "  self._setitem_single_column(ilocs[0], value, pi)\n",
      "c:\\Users\\hp\\AppData\\Local\\Programs\\Python\\Python37\\lib\\site-packages\\pandas\\core\\indexing.py:1667: SettingWithCopyWarning: \n",
      "A value is trying to be set on a copy of a slice from a DataFrame.\n",
      "Try using .loc[row_indexer,col_indexer] = value instead\n",
      "\n",
      "See the caveats in the documentation: https://pandas.pydata.org/pandas-docs/stable/user_guide/indexing.html#returning-a-view-versus-a-copy\n",
      "  self.obj[key] = value\n"
     ]
    }
   ],
   "source": [
    "dfNiwot.loc[:,\"TMAX-C\"] = (5/9)*(dfNiwot.loc[:,\"TMAX\"] - 32)\n",
    "dfNiwot.loc[:,\"TMIN-C\"] = (5/9)*(dfNiwot.loc[:,\"TMIN\"] - 32)"
   ]
  },
  {
   "cell_type": "code",
   "execution_count": 67,
   "metadata": {},
   "outputs": [
    {
     "data": {
      "text/html": [
       "<div>\n",
       "<style scoped>\n",
       "    .dataframe tbody tr th:only-of-type {\n",
       "        vertical-align: middle;\n",
       "    }\n",
       "\n",
       "    .dataframe tbody tr th {\n",
       "        vertical-align: top;\n",
       "    }\n",
       "\n",
       "    .dataframe thead th {\n",
       "        text-align: right;\n",
       "    }\n",
       "</style>\n",
       "<table border=\"1\" class=\"dataframe\">\n",
       "  <thead>\n",
       "    <tr style=\"text-align: right;\">\n",
       "      <th></th>\n",
       "      <th>STATION</th>\n",
       "      <th>NAME</th>\n",
       "      <th>DATE</th>\n",
       "      <th>PRCP</th>\n",
       "      <th>TMAX</th>\n",
       "      <th>TMIN</th>\n",
       "      <th>TMAX+3</th>\n",
       "      <th>TMAX*3</th>\n",
       "      <th>TMAX-C</th>\n",
       "      <th>TMIN-C</th>\n",
       "    </tr>\n",
       "  </thead>\n",
       "  <tbody>\n",
       "    <tr>\n",
       "      <th>93</th>\n",
       "      <td>USS0005J42S</td>\n",
       "      <td>NIWOT, CO US</td>\n",
       "      <td>2017-07-01</td>\n",
       "      <td>0.0</td>\n",
       "      <td>69.0</td>\n",
       "      <td>32.0</td>\n",
       "      <td>72.0</td>\n",
       "      <td>207.0</td>\n",
       "      <td>20.555556</td>\n",
       "      <td>0.000000</td>\n",
       "    </tr>\n",
       "    <tr>\n",
       "      <th>94</th>\n",
       "      <td>USS0005J42S</td>\n",
       "      <td>NIWOT, CO US</td>\n",
       "      <td>2017-07-02</td>\n",
       "      <td>0.0</td>\n",
       "      <td>73.0</td>\n",
       "      <td>37.0</td>\n",
       "      <td>76.0</td>\n",
       "      <td>219.0</td>\n",
       "      <td>22.777778</td>\n",
       "      <td>2.777778</td>\n",
       "    </tr>\n",
       "    <tr>\n",
       "      <th>95</th>\n",
       "      <td>USS0005J42S</td>\n",
       "      <td>NIWOT, CO US</td>\n",
       "      <td>2017-07-03</td>\n",
       "      <td>0.0</td>\n",
       "      <td>68.0</td>\n",
       "      <td>47.0</td>\n",
       "      <td>71.0</td>\n",
       "      <td>204.0</td>\n",
       "      <td>20.000000</td>\n",
       "      <td>8.333333</td>\n",
       "    </tr>\n",
       "    <tr>\n",
       "      <th>96</th>\n",
       "      <td>USS0005J42S</td>\n",
       "      <td>NIWOT, CO US</td>\n",
       "      <td>2017-07-04</td>\n",
       "      <td>0.1</td>\n",
       "      <td>70.0</td>\n",
       "      <td>41.0</td>\n",
       "      <td>73.0</td>\n",
       "      <td>210.0</td>\n",
       "      <td>21.111111</td>\n",
       "      <td>5.000000</td>\n",
       "    </tr>\n",
       "    <tr>\n",
       "      <th>97</th>\n",
       "      <td>USS0005J42S</td>\n",
       "      <td>NIWOT, CO US</td>\n",
       "      <td>2017-07-05</td>\n",
       "      <td>0.0</td>\n",
       "      <td>74.0</td>\n",
       "      <td>40.0</td>\n",
       "      <td>77.0</td>\n",
       "      <td>222.0</td>\n",
       "      <td>23.333333</td>\n",
       "      <td>4.444444</td>\n",
       "    </tr>\n",
       "  </tbody>\n",
       "</table>\n",
       "</div>"
      ],
      "text/plain": [
       "        STATION          NAME        DATE  PRCP  TMAX  TMIN  TMAX+3  TMAX*3  \\\n",
       "93  USS0005J42S  NIWOT, CO US  2017-07-01   0.0  69.0  32.0    72.0   207.0   \n",
       "94  USS0005J42S  NIWOT, CO US  2017-07-02   0.0  73.0  37.0    76.0   219.0   \n",
       "95  USS0005J42S  NIWOT, CO US  2017-07-03   0.0  68.0  47.0    71.0   204.0   \n",
       "96  USS0005J42S  NIWOT, CO US  2017-07-04   0.1  70.0  41.0    73.0   210.0   \n",
       "97  USS0005J42S  NIWOT, CO US  2017-07-05   0.0  74.0  40.0    77.0   222.0   \n",
       "\n",
       "       TMAX-C    TMIN-C  \n",
       "93  20.555556  0.000000  \n",
       "94  22.777778  2.777778  \n",
       "95  20.000000  8.333333  \n",
       "96  21.111111  5.000000  \n",
       "97  23.333333  4.444444  "
      ]
     },
     "execution_count": 67,
     "metadata": {},
     "output_type": "execute_result"
    }
   ],
   "source": [
    "dfNiwot.head()"
   ]
  },
  {
   "cell_type": "code",
   "execution_count": 68,
   "metadata": {},
   "outputs": [
    {
     "data": {
      "text/plain": [
       "count    31.000000\n",
       "mean     21.021505\n",
       "std       3.123312\n",
       "min      12.222222\n",
       "25%      19.166667\n",
       "50%      21.111111\n",
       "75%      23.333333\n",
       "max      26.666667\n",
       "Name: TMAX-C, dtype: float64"
      ]
     },
     "execution_count": 68,
     "metadata": {},
     "output_type": "execute_result"
    }
   ],
   "source": [
    "dfNiwot[\"TMAX-C\"].describe()"
   ]
  },
  {
   "cell_type": "code",
   "execution_count": 69,
   "metadata": {},
   "outputs": [
    {
     "data": {
      "text/plain": [
       "count    31.000000\n",
       "mean      6.415771\n",
       "std       2.235326\n",
       "min       0.000000\n",
       "25%       5.000000\n",
       "50%       6.666667\n",
       "75%       8.333333\n",
       "max      11.111111\n",
       "Name: TMIN-C, dtype: float64"
      ]
     },
     "execution_count": 69,
     "metadata": {},
     "output_type": "execute_result"
    }
   ],
   "source": [
    "dfNiwot[\"TMIN-C\"].describe()"
   ]
  },
  {
   "cell_type": "code",
   "execution_count": 70,
   "metadata": {},
   "outputs": [
    {
     "name": "stderr",
     "output_type": "stream",
     "text": [
      "c:\\Users\\hp\\AppData\\Local\\Programs\\Python\\Python37\\lib\\site-packages\\pandas\\core\\indexing.py:1667: SettingWithCopyWarning: \n",
      "A value is trying to be set on a copy of a slice from a DataFrame.\n",
      "Try using .loc[row_indexer,col_indexer] = value instead\n",
      "\n",
      "See the caveats in the documentation: https://pandas.pydata.org/pandas-docs/stable/user_guide/indexing.html#returning-a-view-versus-a-copy\n",
      "  self.obj[key] = value\n"
     ]
    }
   ],
   "source": [
    "dfNiwot.loc[:,\"TDIFF\"] = dfNiwot.loc[:,\"TMAX\"] - dfNiwot.loc[:,\"TMIN\"]\n"
   ]
  },
  {
   "cell_type": "code",
   "execution_count": 71,
   "metadata": {},
   "outputs": [
    {
     "data": {
      "text/html": [
       "<div>\n",
       "<style scoped>\n",
       "    .dataframe tbody tr th:only-of-type {\n",
       "        vertical-align: middle;\n",
       "    }\n",
       "\n",
       "    .dataframe tbody tr th {\n",
       "        vertical-align: top;\n",
       "    }\n",
       "\n",
       "    .dataframe thead th {\n",
       "        text-align: right;\n",
       "    }\n",
       "</style>\n",
       "<table border=\"1\" class=\"dataframe\">\n",
       "  <thead>\n",
       "    <tr style=\"text-align: right;\">\n",
       "      <th></th>\n",
       "      <th>STATION</th>\n",
       "      <th>NAME</th>\n",
       "      <th>DATE</th>\n",
       "      <th>PRCP</th>\n",
       "      <th>TMAX</th>\n",
       "      <th>TMIN</th>\n",
       "      <th>TMAX+3</th>\n",
       "      <th>TMAX*3</th>\n",
       "      <th>TMAX-C</th>\n",
       "      <th>TMIN-C</th>\n",
       "      <th>TDIFF</th>\n",
       "    </tr>\n",
       "  </thead>\n",
       "  <tbody>\n",
       "    <tr>\n",
       "      <th>93</th>\n",
       "      <td>USS0005J42S</td>\n",
       "      <td>NIWOT, CO US</td>\n",
       "      <td>2017-07-01</td>\n",
       "      <td>0.0</td>\n",
       "      <td>69.0</td>\n",
       "      <td>32.0</td>\n",
       "      <td>72.0</td>\n",
       "      <td>207.0</td>\n",
       "      <td>20.555556</td>\n",
       "      <td>0.000000</td>\n",
       "      <td>37.0</td>\n",
       "    </tr>\n",
       "    <tr>\n",
       "      <th>94</th>\n",
       "      <td>USS0005J42S</td>\n",
       "      <td>NIWOT, CO US</td>\n",
       "      <td>2017-07-02</td>\n",
       "      <td>0.0</td>\n",
       "      <td>73.0</td>\n",
       "      <td>37.0</td>\n",
       "      <td>76.0</td>\n",
       "      <td>219.0</td>\n",
       "      <td>22.777778</td>\n",
       "      <td>2.777778</td>\n",
       "      <td>36.0</td>\n",
       "    </tr>\n",
       "    <tr>\n",
       "      <th>95</th>\n",
       "      <td>USS0005J42S</td>\n",
       "      <td>NIWOT, CO US</td>\n",
       "      <td>2017-07-03</td>\n",
       "      <td>0.0</td>\n",
       "      <td>68.0</td>\n",
       "      <td>47.0</td>\n",
       "      <td>71.0</td>\n",
       "      <td>204.0</td>\n",
       "      <td>20.000000</td>\n",
       "      <td>8.333333</td>\n",
       "      <td>21.0</td>\n",
       "    </tr>\n",
       "    <tr>\n",
       "      <th>96</th>\n",
       "      <td>USS0005J42S</td>\n",
       "      <td>NIWOT, CO US</td>\n",
       "      <td>2017-07-04</td>\n",
       "      <td>0.1</td>\n",
       "      <td>70.0</td>\n",
       "      <td>41.0</td>\n",
       "      <td>73.0</td>\n",
       "      <td>210.0</td>\n",
       "      <td>21.111111</td>\n",
       "      <td>5.000000</td>\n",
       "      <td>29.0</td>\n",
       "    </tr>\n",
       "    <tr>\n",
       "      <th>97</th>\n",
       "      <td>USS0005J42S</td>\n",
       "      <td>NIWOT, CO US</td>\n",
       "      <td>2017-07-05</td>\n",
       "      <td>0.0</td>\n",
       "      <td>74.0</td>\n",
       "      <td>40.0</td>\n",
       "      <td>77.0</td>\n",
       "      <td>222.0</td>\n",
       "      <td>23.333333</td>\n",
       "      <td>4.444444</td>\n",
       "      <td>34.0</td>\n",
       "    </tr>\n",
       "  </tbody>\n",
       "</table>\n",
       "</div>"
      ],
      "text/plain": [
       "        STATION          NAME        DATE  PRCP  TMAX  TMIN  TMAX+3  TMAX*3  \\\n",
       "93  USS0005J42S  NIWOT, CO US  2017-07-01   0.0  69.0  32.0    72.0   207.0   \n",
       "94  USS0005J42S  NIWOT, CO US  2017-07-02   0.0  73.0  37.0    76.0   219.0   \n",
       "95  USS0005J42S  NIWOT, CO US  2017-07-03   0.0  68.0  47.0    71.0   204.0   \n",
       "96  USS0005J42S  NIWOT, CO US  2017-07-04   0.1  70.0  41.0    73.0   210.0   \n",
       "97  USS0005J42S  NIWOT, CO US  2017-07-05   0.0  74.0  40.0    77.0   222.0   \n",
       "\n",
       "       TMAX-C    TMIN-C  TDIFF  \n",
       "93  20.555556  0.000000   37.0  \n",
       "94  22.777778  2.777778   36.0  \n",
       "95  20.000000  8.333333   21.0  \n",
       "96  21.111111  5.000000   29.0  \n",
       "97  23.333333  4.444444   34.0  "
      ]
     },
     "execution_count": 71,
     "metadata": {},
     "output_type": "execute_result"
    }
   ],
   "source": [
    "dfNiwot.head()"
   ]
  },
  {
   "cell_type": "code",
   "execution_count": 72,
   "metadata": {},
   "outputs": [
    {
     "data": {
      "text/plain": [
       "count    31.000000\n",
       "mean     26.290323\n",
       "std       6.330843\n",
       "min      10.000000\n",
       "25%      23.000000\n",
       "50%      27.000000\n",
       "75%      30.500000\n",
       "max      37.000000\n",
       "Name: TDIFF, dtype: float64"
      ]
     },
     "execution_count": 72,
     "metadata": {},
     "output_type": "execute_result"
    }
   ],
   "source": [
    "dfNiwot[\"TDIFF\"].describe()"
   ]
  },
  {
   "cell_type": "code",
   "execution_count": 73,
   "metadata": {},
   "outputs": [
    {
     "data": {
      "text/plain": [
       "26.290322580645167"
      ]
     },
     "execution_count": 73,
     "metadata": {},
     "output_type": "execute_result"
    }
   ],
   "source": [
    "dfNiwot[\"TMAX\"].mean() - dfNiwot[\"TMIN\"].mean()"
   ]
  },
  {
   "cell_type": "code",
   "execution_count": null,
   "metadata": {},
   "outputs": [],
   "source": []
  }
 ],
 "metadata": {
  "kernelspec": {
   "display_name": "Python 3",
   "language": "python",
   "name": "python3"
  },
  "language_info": {
   "codemirror_mode": {
    "name": "ipython",
    "version": 3
   },
   "file_extension": ".py",
   "mimetype": "text/x-python",
   "name": "python",
   "nbconvert_exporter": "python",
   "pygments_lexer": "ipython3",
   "version": "3.7.6"
  },
  "orig_nbformat": 4,
  "vscode": {
   "interpreter": {
    "hash": "173b1ad0e598a21817c913127c0ed612d69b6c3d0fd1e8e7f3c7ab65a8d7b09a"
   }
  }
 },
 "nbformat": 4,
 "nbformat_minor": 2
}
